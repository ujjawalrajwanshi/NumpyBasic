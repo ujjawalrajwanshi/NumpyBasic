{
 "cells": [
  {
   "cell_type": "markdown",
   "id": "53011418-08f4-4199-909e-ff81f8fbe91d",
   "metadata": {},
   "source": [
    "# INTRODUCTION AND BASIC OPERATIONS"
   ]
  },
  {
   "cell_type": "code",
   "execution_count": 1,
   "id": "caf54298-a2d0-433a-a7f3-6df230f38350",
   "metadata": {},
   "outputs": [],
   "source": [
    "import numpy as np"
   ]
  },
  {
   "cell_type": "code",
   "execution_count": 2,
   "id": "3165ce24-26d3-4a38-9a2d-666a9b14a150",
   "metadata": {},
   "outputs": [
    {
     "name": "stdout",
     "output_type": "stream",
     "text": [
      "[1, 2, 3, 4, 5]\n"
     ]
    }
   ],
   "source": [
    "lst = [1,2,3,4,5]\n",
    "print(lst)"
   ]
  },
  {
   "cell_type": "code",
   "execution_count": 3,
   "id": "fbd6bce2-4bb8-4ace-9a1f-f68983a2e5f7",
   "metadata": {},
   "outputs": [
    {
     "name": "stdout",
     "output_type": "stream",
     "text": [
      "1D NP ARRRAY\n",
      "[1 2 3 4 5]\n"
     ]
    }
   ],
   "source": [
    "print('1D NP ARRRAY')\n",
    "a = np.array([1,2,3,4,5])\n",
    "print(a)\n"
   ]
  },
  {
   "cell_type": "code",
   "execution_count": 4,
   "id": "cbcf91f2-f205-4467-99c3-6228c88e2a4a",
   "metadata": {},
   "outputs": [
    {
     "name": "stdout",
     "output_type": "stream",
     "text": [
      "2D ARRAY\n",
      "[[ 1  2  3  4  5]\n",
      " [ 6  7  8  9 10]]\n"
     ]
    }
   ],
   "source": [
    "print('2D ARRAY')\n",
    "b = np.array([[1,2,3,4,5],[6,7,8,9,10]])\n",
    "print(b)"
   ]
  },
  {
   "cell_type": "code",
   "execution_count": 5,
   "id": "989850c9-4f67-4701-9da6-8798bd399d29",
   "metadata": {},
   "outputs": [
    {
     "name": "stdout",
     "output_type": "stream",
     "text": [
      "3D ARRAY\n",
      "[[[ 1  2  3  4  5]\n",
      "  [ 6  7  8  9 10]\n",
      "  [11 12 13 14 15]]]\n"
     ]
    }
   ],
   "source": [
    "print('3D ARRAY')\n",
    "c = np.array([[[1,2,3,4,5],[6,7,8,9,10],[11,12,13,14,15]]])\n",
    "print(c)"
   ]
  },
  {
   "cell_type": "code",
   "execution_count": 6,
   "id": "0d134f35-03cf-400b-8315-1a8f07c54a57",
   "metadata": {},
   "outputs": [
    {
     "data": {
      "text/plain": [
       "numpy.ndarray"
      ]
     },
     "execution_count": 6,
     "metadata": {},
     "output_type": "execute_result"
    }
   ],
   "source": [
    "type(a)\n"
   ]
  },
  {
   "cell_type": "code",
   "execution_count": 7,
   "id": "51554f57-a8a4-4998-8bc8-cc3a50b3435e",
   "metadata": {},
   "outputs": [
    {
     "data": {
      "text/plain": [
       "numpy.ndarray"
      ]
     },
     "execution_count": 7,
     "metadata": {},
     "output_type": "execute_result"
    }
   ],
   "source": [
    "type(b)\n"
   ]
  },
  {
   "cell_type": "code",
   "execution_count": 8,
   "id": "5a8d3958-a246-4520-93f5-7d3701db7b79",
   "metadata": {},
   "outputs": [
    {
     "data": {
      "text/plain": [
       "numpy.ndarray"
      ]
     },
     "execution_count": 8,
     "metadata": {},
     "output_type": "execute_result"
    }
   ],
   "source": [
    "type(c)"
   ]
  },
  {
   "cell_type": "code",
   "execution_count": 9,
   "id": "6ea7847f-a709-4ca8-bb5b-e1a9c3cdbcf5",
   "metadata": {},
   "outputs": [
    {
     "name": "stdout",
     "output_type": "stream",
     "text": [
      "5\n",
      "10\n",
      "15\n"
     ]
    }
   ],
   "source": [
    "print(a.size)\n",
    "print(b.size)\n",
    "print(c.size)"
   ]
  },
  {
   "cell_type": "markdown",
   "id": "68d27c25-6798-41d0-bbaf-953932aa3eeb",
   "metadata": {},
   "source": [
    "# Numpy Functions np.ones,np.zeroes,np.empty"
   ]
  },
  {
   "cell_type": "code",
   "execution_count": 10,
   "id": "9b093d4d-f6b3-4a38-a07e-0b5e8fd70e6a",
   "metadata": {},
   "outputs": [
    {
     "data": {
      "text/plain": [
       "array([1., 1., 1., 1.])"
      ]
     },
     "execution_count": 10,
     "metadata": {},
     "output_type": "execute_result"
    }
   ],
   "source": [
    "a = np.ones(4)\n",
    "a  #will give an array of size 4 will 0. as elements"
   ]
  },
  {
   "cell_type": "code",
   "execution_count": 11,
   "id": "fac1832f-424e-479a-8e0e-5bfaedb16cc4",
   "metadata": {},
   "outputs": [
    {
     "data": {
      "text/plain": [
       "array([0., 0., 0., 0.])"
      ]
     },
     "execution_count": 11,
     "metadata": {},
     "output_type": "execute_result"
    }
   ],
   "source": [
    "a = np.zeros(4)\n",
    "a #will give an array of size 4 will 0. as elements"
   ]
  },
  {
   "cell_type": "code",
   "execution_count": 12,
   "id": "2084a68b-bdb9-40be-8cbc-1ca9cf8fba6d",
   "metadata": {},
   "outputs": [
    {
     "data": {
      "text/plain": [
       "array([1, 1, 1, 1])"
      ]
     },
     "execution_count": 12,
     "metadata": {},
     "output_type": "execute_result"
    }
   ],
   "source": [
    "a = np.ones(4,dtype = int)\n",
    "a #setting dtype as int hence will get an array of size 4 with value 1 "
   ]
  },
  {
   "cell_type": "code",
   "execution_count": 13,
   "id": "4de0d69c-28f2-4c0a-b01b-9b00f65da8c1",
   "metadata": {},
   "outputs": [
    {
     "data": {
      "text/plain": [
       "array([0, 0, 0, 0])"
      ]
     },
     "execution_count": 13,
     "metadata": {},
     "output_type": "execute_result"
    }
   ],
   "source": [
    "a = np.zeros(4,dtype=int)\n",
    "a"
   ]
  },
  {
   "cell_type": "code",
   "execution_count": 14,
   "id": "a7b585f9-3a9d-4a36-afaa-5448cf7cbfb0",
   "metadata": {},
   "outputs": [
    {
     "data": {
      "text/plain": [
       "array([1701606756, 1869770784, 1701079414,  543236211])"
      ]
     },
     "execution_count": 14,
     "metadata": {},
     "output_type": "execute_result"
    }
   ],
   "source": [
    "a = np.empty(4,dtype = int)\n",
    "a # will get an array of random values of type int"
   ]
  },
  {
   "cell_type": "code",
   "execution_count": 15,
   "id": "70a5baa1-c09d-4e5e-b698-0289c47ead5d",
   "metadata": {},
   "outputs": [
    {
     "data": {
      "text/plain": [
       "array([[1., 1., 1., 1., 1., 1.],\n",
       "       [1., 1., 1., 1., 1., 1.],\n",
       "       [1., 1., 1., 1., 1., 1.],\n",
       "       [1., 1., 1., 1., 1., 1.]])"
      ]
     },
     "execution_count": 15,
     "metadata": {},
     "output_type": "execute_result"
    }
   ],
   "source": [
    "a = np.ones((4,6))\n",
    "a "
   ]
  },
  {
   "cell_type": "code",
   "execution_count": 16,
   "id": "f364120d-6060-4b66-8d40-2361a455ebed",
   "metadata": {},
   "outputs": [
    {
     "data": {
      "text/plain": [
       "array([[1, 1, 1, 1, 1, 1],\n",
       "       [1, 1, 1, 1, 1, 1],\n",
       "       [1, 1, 1, 1, 1, 1],\n",
       "       [1, 1, 1, 1, 1, 1]])"
      ]
     },
     "execution_count": 16,
     "metadata": {},
     "output_type": "execute_result"
    }
   ],
   "source": [
    "a = np.ones((4,6),dtype = int)\n",
    "a "
   ]
  },
  {
   "cell_type": "code",
   "execution_count": 17,
   "id": "5ddd7e20-2a88-4a09-95d9-512bef2dc097",
   "metadata": {},
   "outputs": [
    {
     "data": {
      "text/plain": [
       "array([['1', '1', '1', '1', '1', '1'],\n",
       "       ['1', '1', '1', '1', '1', '1'],\n",
       "       ['1', '1', '1', '1', '1', '1'],\n",
       "       ['1', '1', '1', '1', '1', '1']], dtype='<U1')"
      ]
     },
     "execution_count": 17,
     "metadata": {},
     "output_type": "execute_result"
    }
   ],
   "source": [
    "a = np.ones((4,6),dtype = str)\n",
    "a # well get a 2d array of 4 rows and 6 colums with 1 as string "
   ]
  },
  {
   "cell_type": "code",
   "execution_count": 18,
   "id": "a3dcdd5d-0792-447a-b46a-00094df314e6",
   "metadata": {},
   "outputs": [
    {
     "data": {
      "text/plain": [
       "array([['', '', '', '', '', ''],\n",
       "       ['', '', '', '', '', ''],\n",
       "       ['', '', '', '', '', ''],\n",
       "       ['', '', '', '', '', '']], dtype='<U1')"
      ]
     },
     "execution_count": 18,
     "metadata": {},
     "output_type": "execute_result"
    }
   ],
   "source": [
    "a = np.zeros((4,6),dtype = str)\n",
    "a # well get a 2d array of 4 rows and 6 colums with empty  string "
   ]
  },
  {
   "cell_type": "code",
   "execution_count": 19,
   "id": "823c7139-cac4-4103-828d-542bb15fb6b2",
   "metadata": {},
   "outputs": [
    {
     "data": {
      "text/plain": [
       "array([[ True,  True,  True,  True,  True],\n",
       "       [ True,  True,  True,  True,  True],\n",
       "       [ True,  True,  True,  True,  True],\n",
       "       [ True,  True,  True,  True,  True]])"
      ]
     },
     "execution_count": 19,
     "metadata": {},
     "output_type": "execute_result"
    }
   ],
   "source": [
    "a = np.ones((4,5),dtype = bool)\n",
    "a # for data type bool we get true for np.ones "
   ]
  },
  {
   "cell_type": "code",
   "execution_count": 20,
   "id": "451aa65a-5202-49da-8803-5925ca8cdaed",
   "metadata": {},
   "outputs": [
    {
     "data": {
      "text/plain": [
       "array([[False, False, False, False, False],\n",
       "       [False, False, False, False, False],\n",
       "       [False, False, False, False, False],\n",
       "       [False, False, False, False, False]])"
      ]
     },
     "execution_count": 20,
     "metadata": {},
     "output_type": "execute_result"
    }
   ],
   "source": [
    "a = np.zeros((4,5),dtype = bool)\n",
    "a # for data type bool we get true for np.zeros "
   ]
  },
  {
   "cell_type": "markdown",
   "id": "84a064f9-3972-4912-94fb-e0d302441e27",
   "metadata": {},
   "source": [
    "# Numpy Functions np.arange,np.flatten,np.ravel"
   ]
  },
  {
   "cell_type": "code",
   "execution_count": 21,
   "id": "6dc8e7ad-1773-41d4-aead-b65f6f0458e7",
   "metadata": {},
   "outputs": [],
   "source": [
    "# a = n.arange(start,end,step) "
   ]
  },
  {
   "cell_type": "code",
   "execution_count": 23,
   "id": "c21d599b-0ec4-4b88-bab0-027ed0078f9c",
   "metadata": {},
   "outputs": [
    {
     "data": {
      "text/plain": [
       "array([ 1,  2,  3,  4,  5,  6,  7,  8,  9, 10, 11, 12, 13, 14, 15, 16, 17,\n",
       "       18, 19])"
      ]
     },
     "execution_count": 23,
     "metadata": {},
     "output_type": "execute_result"
    }
   ],
   "source": [
    "a = np.arange(1,20) #by default step is 1\n",
    "a"
   ]
  },
  {
   "cell_type": "code",
   "execution_count": 27,
   "id": "a7f72cdb-781f-46f7-8dfd-691fbc75c998",
   "metadata": {},
   "outputs": [
    {
     "data": {
      "text/plain": [
       "array([ 1,  3,  5,  7,  9, 11, 13, 15, 17, 19])"
      ]
     },
     "execution_count": 27,
     "metadata": {},
     "output_type": "execute_result"
    }
   ],
   "source": [
    "a = np.arange(1,20,2) # this will give odd numbers from 1 to 20\n",
    "a"
   ]
  },
  {
   "cell_type": "code",
   "execution_count": 29,
   "id": "8bcdc396-50b5-4d09-9ac6-2e59b97e52ec",
   "metadata": {},
   "outputs": [
    {
     "data": {
      "text/plain": [
       "array([ 2,  4,  6,  8, 10, 12, 14, 16, 18])"
      ]
     },
     "execution_count": 29,
     "metadata": {},
     "output_type": "execute_result"
    }
   ],
   "source": [
    "a = np.arange(2,20,2) #this will give even numbers from 2 to 20 lest element is not taken in arange function \n",
    "a"
   ]
  },
  {
   "cell_type": "code",
   "execution_count": 34,
   "id": "941fb23b-f0d0-4e61-810b-4758a3c600ee",
   "metadata": {},
   "outputs": [],
   "source": [
    "# a = {array name}.reshape((rows,columns))"
   ]
  },
  {
   "cell_type": "code",
   "execution_count": 35,
   "id": "fe52c836-778e-42c8-9442-20a706631e11",
   "metadata": {},
   "outputs": [
    {
     "data": {
      "text/plain": [
       "array([ 2,  4,  6,  8, 10, 12, 14, 16, 18])"
      ]
     },
     "execution_count": 35,
     "metadata": {},
     "output_type": "execute_result"
    }
   ],
   "source": [
    "a"
   ]
  },
  {
   "cell_type": "code",
   "execution_count": 36,
   "id": "96180592-91ce-449a-8789-6468e5a45566",
   "metadata": {},
   "outputs": [],
   "source": [
    "# we have an array a having values from 2 - 18 lets convert this 1-D array to 2-D array of 3x3 3 rows and 3 columns"
   ]
  },
  {
   "cell_type": "code",
   "execution_count": 37,
   "id": "52989c77-74d0-41ed-86fc-2c45c561b2a7",
   "metadata": {},
   "outputs": [
    {
     "data": {
      "text/plain": [
       "array([[ 2,  4,  6],\n",
       "       [ 8, 10, 12],\n",
       "       [14, 16, 18]])"
      ]
     },
     "execution_count": 37,
     "metadata": {},
     "output_type": "execute_result"
    }
   ],
   "source": [
    "a = a.reshape((3,3))\n",
    "a"
   ]
  },
  {
   "cell_type": "code",
   "execution_count": 53,
   "id": "8100d5fb-133d-4dda-8726-6105e33ca885",
   "metadata": {},
   "outputs": [],
   "source": [
    "b = np.array([\n",
    "        [\n",
    "            [1,2,3],\n",
    "            [4,5,6],\n",
    "            [7,8,9]\n",
    "        ],\n",
    "        [\n",
    "            [10,11,12],\n",
    "            [13,14,15],\n",
    "            [16,17,18]\n",
    "        ],\n",
    "    [\n",
    "            [19,20,21],\n",
    "            [22,23,24],\n",
    "            [25,26,27]\n",
    "        \n",
    "    ]\n",
    "    \n",
    "])"
   ]
  },
  {
   "cell_type": "code",
   "execution_count": 54,
   "id": "265a87e6-a9ea-4c45-9281-94cb151aeb52",
   "metadata": {},
   "outputs": [
    {
     "data": {
      "text/plain": [
       "27"
      ]
     },
     "execution_count": 54,
     "metadata": {},
     "output_type": "execute_result"
    }
   ],
   "source": [
    "b.size"
   ]
  },
  {
   "cell_type": "code",
   "execution_count": 55,
   "id": "d0e1c37e-5bdc-426a-8f90-54131177b695",
   "metadata": {},
   "outputs": [
    {
     "data": {
      "text/plain": [
       "(3, 3, 3)"
      ]
     },
     "execution_count": 55,
     "metadata": {},
     "output_type": "execute_result"
    }
   ],
   "source": [
    "b.shape # to check the shape of array"
   ]
  },
  {
   "cell_type": "code",
   "execution_count": 61,
   "id": "ace46182-9784-40b6-bf7a-59811673728f",
   "metadata": {},
   "outputs": [
    {
     "ename": "ValueError",
     "evalue": "cannot reshape array of size 27 into shape (3,3,2)",
     "output_type": "error",
     "traceback": [
      "\u001b[1;31m---------------------------------------------------------------------------\u001b[0m",
      "\u001b[1;31mValueError\u001b[0m                                Traceback (most recent call last)",
      "Cell \u001b[1;32mIn[61], line 1\u001b[0m\n\u001b[1;32m----> 1\u001b[0m b \u001b[38;5;241m=\u001b[39m \u001b[43mb\u001b[49m\u001b[38;5;241;43m.\u001b[39;49m\u001b[43mreshape\u001b[49m\u001b[43m(\u001b[49m\u001b[38;5;241;43m3\u001b[39;49m\u001b[43m,\u001b[49m\u001b[38;5;241;43m3\u001b[39;49m\u001b[43m,\u001b[49m\u001b[38;5;241;43m2\u001b[39;49m\u001b[43m)\u001b[49m  \u001b[38;5;66;03m# Make sure the b.shape value which is 3,3,3 which is about 27 elements must fit with the values in rehsape provided else error will be shown \u001b[39;00m\n",
      "\u001b[1;31mValueError\u001b[0m: cannot reshape array of size 27 into shape (3,3,2)"
     ]
    }
   ],
   "source": [
    "b = b.reshape(3,3,2)  # Make sure the b.shape value which is 3,3,3 which is about 27 elements must fit with the values in rehsape provided else error will be shown "
   ]
  },
  {
   "cell_type": "code",
   "execution_count": 62,
   "id": "9aff4492-069c-464f-b2ba-5c0815b38963",
   "metadata": {},
   "outputs": [
    {
     "data": {
      "text/plain": [
       "array([[ 1],\n",
       "       [ 2],\n",
       "       [ 3],\n",
       "       [ 4],\n",
       "       [ 5],\n",
       "       [ 6],\n",
       "       [ 7],\n",
       "       [ 8],\n",
       "       [ 9],\n",
       "       [10],\n",
       "       [11],\n",
       "       [12],\n",
       "       [13],\n",
       "       [14],\n",
       "       [15],\n",
       "       [16],\n",
       "       [17],\n",
       "       [18],\n",
       "       [19],\n",
       "       [20],\n",
       "       [21],\n",
       "       [22],\n",
       "       [23],\n",
       "       [24],\n",
       "       [25],\n",
       "       [26],\n",
       "       [27]])"
      ]
     },
     "execution_count": 62,
     "metadata": {},
     "output_type": "execute_result"
    }
   ],
   "source": [
    "b.reshape(27,1)"
   ]
  },
  {
   "cell_type": "code",
   "execution_count": 63,
   "id": "89da862b-00f4-48b6-b95b-eaa32aa6cda4",
   "metadata": {},
   "outputs": [
    {
     "data": {
      "text/plain": [
       "array([[ 1,  2,  3,  4,  5,  6,  7,  8,  9],\n",
       "       [10, 11, 12, 13, 14, 15, 16, 17, 18],\n",
       "       [19, 20, 21, 22, 23, 24, 25, 26, 27]])"
      ]
     },
     "execution_count": 63,
     "metadata": {},
     "output_type": "execute_result"
    }
   ],
   "source": [
    "b.reshape(3,3,3)\n",
    "b"
   ]
  },
  {
   "cell_type": "code",
   "execution_count": 64,
   "id": "1e9a08c8-e3d7-4e74-b1bc-f0ec1203d5af",
   "metadata": {},
   "outputs": [
    {
     "data": {
      "text/plain": [
       "array([[ 1,  2,  3,  4,  5,  6,  7,  8,  9],\n",
       "       [10, 11, 12, 13, 14, 15, 16, 17, 18],\n",
       "       [19, 20, 21, 22, 23, 24, 25, 26, 27]])"
      ]
     },
     "execution_count": 64,
     "metadata": {},
     "output_type": "execute_result"
    }
   ],
   "source": [
    "b.reshape(9,3)\n",
    "b"
   ]
  },
  {
   "cell_type": "code",
   "execution_count": 65,
   "id": "69788369-173d-4ab1-801b-788ccb4979a2",
   "metadata": {},
   "outputs": [
    {
     "data": {
      "text/plain": [
       "array([[ 1,  2,  3,  4,  5,  6,  7,  8,  9],\n",
       "       [10, 11, 12, 13, 14, 15, 16, 17, 18],\n",
       "       [19, 20, 21, 22, 23, 24, 25, 26, 27]])"
      ]
     },
     "execution_count": 65,
     "metadata": {},
     "output_type": "execute_result"
    }
   ],
   "source": [
    "b.reshape(3,9) #b.flatten will convert 2D to 1D array\n",
    "b"
   ]
  },
  {
   "cell_type": "code",
   "execution_count": 66,
   "id": "e21cddad-3974-4860-b56d-8881c02d9c86",
   "metadata": {},
   "outputs": [
    {
     "data": {
      "text/plain": [
       "array([ 1,  2,  3,  4,  5,  6,  7,  8,  9, 10, 11, 12, 13, 14, 15, 16, 17,\n",
       "       18, 19, 20, 21, 22, 23, 24, 25, 26, 27])"
      ]
     },
     "execution_count": 66,
     "metadata": {},
     "output_type": "execute_result"
    }
   ],
   "source": [
    "b.flatten() "
   ]
  },
  {
   "cell_type": "code",
   "execution_count": 67,
   "id": "f9d2c252-89a2-42bd-9684-f6c24a3793b6",
   "metadata": {},
   "outputs": [
    {
     "data": {
      "text/plain": [
       "array([[ 1,  2,  3,  4,  5,  6,  7,  8,  9],\n",
       "       [10, 11, 12, 13, 14, 15, 16, 17, 18],\n",
       "       [19, 20, 21, 22, 23, 24, 25, 26, 27]])"
      ]
     },
     "execution_count": 67,
     "metadata": {},
     "output_type": "execute_result"
    }
   ],
   "source": [
    "b.reshape(3,3,3)\n",
    "b"
   ]
  },
  {
   "cell_type": "code",
   "execution_count": 69,
   "id": "cfd11e83-c18b-4129-a05b-3fe4ef3c4d6e",
   "metadata": {},
   "outputs": [
    {
     "data": {
      "text/plain": [
       "array([ 1,  2,  3,  4,  5,  6,  7,  8,  9, 10, 11, 12, 13, 14, 15, 16, 17,\n",
       "       18, 19, 20, 21, 22, 23, 24, 25, 26, 27])"
      ]
     },
     "execution_count": 69,
     "metadata": {},
     "output_type": "execute_result"
    }
   ],
   "source": [
    "b.flatten() #b.flatten will convert 3D ARRAY TO 1d array"
   ]
  },
  {
   "cell_type": "code",
   "execution_count": 70,
   "id": "bf8be534-5464-4411-b840-25f9a822e0d5",
   "metadata": {},
   "outputs": [],
   "source": [
    "# b.flatten function converts 2D and 3D arrays to 1D array"
   ]
  },
  {
   "cell_type": "code",
   "execution_count": 72,
   "id": "296d12aa-6db4-4d49-950c-83fc05566b3c",
   "metadata": {},
   "outputs": [],
   "source": [
    "# b.ravel\n",
    "b = np.array([\n",
    "        [\n",
    "            [1,2,3],\n",
    "            [4,5,6],\n",
    "            [7,8,9]\n",
    "        ],\n",
    "        [\n",
    "            [10,11,12],\n",
    "            [13,14,15],\n",
    "            [16,17,18]\n",
    "        ],\n",
    "    [\n",
    "            [19,20,21],\n",
    "            [22,23,24],\n",
    "            [25,26,27]\n",
    "        \n",
    "    ]\n",
    "    \n",
    "])\n",
    "\n",
    "\n",
    "\n"
   ]
  },
  {
   "cell_type": "code",
   "execution_count": 73,
   "id": "95620350-36e0-432a-bbfa-eb50b0413b72",
   "metadata": {},
   "outputs": [
    {
     "data": {
      "text/plain": [
       "array([[[ 1,  2,  3],\n",
       "        [ 4,  5,  6],\n",
       "        [ 7,  8,  9]],\n",
       "\n",
       "       [[10, 11, 12],\n",
       "        [13, 14, 15],\n",
       "        [16, 17, 18]],\n",
       "\n",
       "       [[19, 20, 21],\n",
       "        [22, 23, 24],\n",
       "        [25, 26, 27]]])"
      ]
     },
     "execution_count": 73,
     "metadata": {},
     "output_type": "execute_result"
    }
   ],
   "source": [
    "b"
   ]
  },
  {
   "cell_type": "code",
   "execution_count": 76,
   "id": "8f4b0f35-1262-42ee-b2da-a282d1b7caa4",
   "metadata": {},
   "outputs": [
    {
     "data": {
      "text/plain": [
       "array([ 1,  2,  3,  4,  5,  6,  7,  8,  9, 10, 11, 12, 13, 14, 15, 16, 17,\n",
       "       18, 19, 20, 21, 22, 23, 24, 25, 26, 27])"
      ]
     },
     "execution_count": 76,
     "metadata": {},
     "output_type": "execute_result"
    }
   ],
   "source": [
    "b = b.ravel() \n",
    "b"
   ]
  },
  {
   "cell_type": "code",
   "execution_count": 78,
   "id": "0716e92d-9fe1-40d9-b87a-c8e5a99ae57b",
   "metadata": {},
   "outputs": [],
   "source": [
    "# ravel vs flatten"
   ]
  },
  {
   "cell_type": "code",
   "execution_count": 80,
   "id": "0259ccc6-87aa-499b-ad2c-3bb33f2ffa72",
   "metadata": {},
   "outputs": [
    {
     "data": {
      "text/plain": [
       "array([[1, 2, 3],\n",
       "       [4, 5, 6],\n",
       "       [7, 8, 9]])"
      ]
     },
     "execution_count": 80,
     "metadata": {},
     "output_type": "execute_result"
    }
   ],
   "source": [
    "a = np.array([\n",
    "            [1,2,3],\n",
    "            [4,5,6],\n",
    "            [7,8,9]\n",
    "        ])\n",
    "\n",
    "a"
   ]
  },
  {
   "cell_type": "code",
   "execution_count": 81,
   "id": "b0703c5f-4672-4958-a0df-5d12fbdcfc43",
   "metadata": {},
   "outputs": [
    {
     "name": "stdout",
     "output_type": "stream",
     "text": [
      "original  [[1 2 3]\n",
      " [4 5 6]\n",
      " [7 8 9]]\n",
      "after a.flatten  [1 2 3 4 5 6 7 8 9]\n"
     ]
    }
   ],
   "source": [
    "f = a.flatten()\n",
    "print('original ',a)\n",
    "print('after a.flatten ',f)"
   ]
  },
  {
   "cell_type": "code",
   "execution_count": 82,
   "id": "bf9d10eb-4e8b-4595-9ff6-b29aac52bc62",
   "metadata": {},
   "outputs": [
    {
     "name": "stdout",
     "output_type": "stream",
     "text": [
      "original  [[1 2 3]\n",
      " [4 5 6]\n",
      " [7 8 9]]\n",
      "after a.flatten  [100   2   3   4   5   6   7   8   9]\n"
     ]
    }
   ],
   "source": [
    "# lets change a value in flatten \n",
    "f[0] = 100\n",
    "print('original ',a)\n",
    "print('after a.flatten ',f)\n"
   ]
  },
  {
   "cell_type": "code",
   "execution_count": 83,
   "id": "66609e4e-ecf2-4f87-9f6b-88b666b916bd",
   "metadata": {},
   "outputs": [],
   "source": [
    "# as you can see there is no change in the original array\n"
   ]
  },
  {
   "cell_type": "code",
   "execution_count": 84,
   "id": "b42ab491-b62d-413b-a65e-626e2a69aced",
   "metadata": {},
   "outputs": [
    {
     "data": {
      "text/plain": [
       "array([[1, 2, 3],\n",
       "       [4, 5, 6],\n",
       "       [7, 8, 9]])"
      ]
     },
     "execution_count": 84,
     "metadata": {},
     "output_type": "execute_result"
    }
   ],
   "source": [
    "a = np.array([\n",
    "            [1,2,3],\n",
    "            [4,5,6],\n",
    "            [7,8,9]\n",
    "        ])\n",
    "\n",
    "a"
   ]
  },
  {
   "cell_type": "code",
   "execution_count": 85,
   "id": "5535421c-c00d-4dee-bc82-d4d410841d89",
   "metadata": {},
   "outputs": [
    {
     "name": "stdout",
     "output_type": "stream",
     "text": [
      "original  [[1 2 3]\n",
      " [4 5 6]\n",
      " [7 8 9]]\n",
      "after a.flatten  [1 2 3 4 5 6 7 8 9]\n"
     ]
    }
   ],
   "source": [
    "r = a.ravel()\n",
    "print('original ',a)\n",
    "print('after a.flatten ',r)"
   ]
  },
  {
   "cell_type": "code",
   "execution_count": 86,
   "id": "6dcc0686-af2f-45c8-9259-6a81e2651caa",
   "metadata": {},
   "outputs": [
    {
     "name": "stdout",
     "output_type": "stream",
     "text": [
      "original  [[100   2   3]\n",
      " [  4   5   6]\n",
      " [  7   8   9]]\n",
      "after a.flatten  [100   2   3   4   5   6   7   8   9]\n"
     ]
    }
   ],
   "source": [
    "# lets change a value in ravel \n",
    "r[0] = 100\n",
    "print('original ',a)\n",
    "print('after a.flatten ',r)\n"
   ]
  },
  {
   "cell_type": "code",
   "execution_count": 87,
   "id": "f3b14d85-4000-48ca-918b-8c9fa60048f9",
   "metadata": {},
   "outputs": [],
   "source": [
    "# there is a change in both original and raveled array "
   ]
  },
  {
   "cell_type": "markdown",
   "id": "a7c4e322-80ca-4bc2-bd0c-e02fa3fff0f1",
   "metadata": {},
   "source": [
    "### DIFFERENCE BETWEEN FLATTEN AND RAVEL"
   ]
  },
  {
   "cell_type": "code",
   "execution_count": 129,
   "id": "5249518c-b4c6-4a7a-a25d-8c5f229e4aaf",
   "metadata": {},
   "outputs": [],
   "source": [
    "#ravel()\n",
    "\n",
    "# Return only reference/view of the original array\n",
    "\n",
    "# If you modify the array you would notice that the value of the original array also changes.\n",
    "\n",
    "# Ravel is faster than flatten() as it does not occupy any memory.\n",
    "\n",
    "# Ravel is a library-level function.\n",
    "\n",
    "#flatten()\n",
    "\n",
    "# Return copy of the original array\n",
    "\n",
    "# If you modify any value of this array value of the original array is not affected.\n",
    "\n",
    "# Flatten() is comparatively slower than ravel() as it occupies memory.\n",
    "\n",
    "# Flatten is a method of an ndarray object.\n"
   ]
  },
  {
   "cell_type": "markdown",
   "id": "b9ab0f03-2b06-46f8-922b-adc834ca05ba",
   "metadata": {},
   "source": [
    "# Mathematical Operations Numpy"
   ]
  },
  {
   "cell_type": "code",
   "execution_count": 177,
   "id": "a9396f4b-4a8d-42e1-b340-e691b815f8e9",
   "metadata": {},
   "outputs": [],
   "source": [
    "a = np.arange(0,18,dtype = int).reshape(6,3)\n",
    "b = np.arange(18,36,dtype = int).reshape(6,3)"
   ]
  },
  {
   "cell_type": "code",
   "execution_count": 178,
   "id": "6d86fc73-ff68-4cc5-bb5e-0cc27923dd5a",
   "metadata": {},
   "outputs": [
    {
     "name": "stdout",
     "output_type": "stream",
     "text": [
      "[[ 0  1  2]\n",
      " [ 3  4  5]\n",
      " [ 6  7  8]\n",
      " [ 9 10 11]\n",
      " [12 13 14]\n",
      " [15 16 17]]\n",
      "[[18 19 20]\n",
      " [21 22 23]\n",
      " [24 25 26]\n",
      " [27 28 29]\n",
      " [30 31 32]\n",
      " [33 34 35]]\n"
     ]
    }
   ],
   "source": [
    "print(a)\n",
    "print(b)"
   ]
  },
  {
   "cell_type": "code",
   "execution_count": 179,
   "id": "690d000c-6e24-4dce-aa0e-b3de4a16a7f7",
   "metadata": {},
   "outputs": [
    {
     "name": "stdout",
     "output_type": "stream",
     "text": [
      "a+1 [[ 1  2  3]\n",
      " [ 4  5  6]\n",
      " [ 7  8  9]\n",
      " [10 11 12]\n",
      " [13 14 15]\n",
      " [16 17 18]]\n",
      "a+b  [[18 20 22]\n",
      " [24 26 28]\n",
      " [30 32 34]\n",
      " [36 38 40]\n",
      " [42 44 46]\n",
      " [48 50 52]]\n",
      "np.add(a,b)  [[18 20 22]\n",
      " [24 26 28]\n",
      " [30 32 34]\n",
      " [36 38 40]\n",
      " [42 44 46]\n",
      " [48 50 52]]\n"
     ]
    }
   ],
   "source": [
    "print(\"a+1\",a+1)\n",
    "print(\"a+b \",a+b)\n",
    "print(\"np.add(a,b) \",np.add(a,b))"
   ]
  },
  {
   "cell_type": "code",
   "execution_count": 180,
   "id": "f0221e43-0f75-471c-9265-047a54e179f9",
   "metadata": {},
   "outputs": [],
   "source": [
    "# a+b or np.add(a,b)     will perform addition operation on two arrays of same size and shape both rows and columns must be \n",
    "#same for the operation to perform"
   ]
  },
  {
   "cell_type": "code",
   "execution_count": 181,
   "id": "7718975b-aee6-43fd-b618-00f5e04f0d45",
   "metadata": {},
   "outputs": [
    {
     "name": "stdout",
     "output_type": "stream",
     "text": [
      "a-b  [[-18 -18 -18]\n",
      " [-18 -18 -18]\n",
      " [-18 -18 -18]\n",
      " [-18 -18 -18]\n",
      " [-18 -18 -18]\n",
      " [-18 -18 -18]]\n",
      "np.subtract  [[-18 -18 -18]\n",
      " [-18 -18 -18]\n",
      " [-18 -18 -18]\n",
      " [-18 -18 -18]\n",
      " [-18 -18 -18]\n",
      " [-18 -18 -18]]\n"
     ]
    }
   ],
   "source": [
    "print(\"a-b \",a-b)\n",
    "print(\"np.subtract \",np.subtract(a,b)) "
   ]
  },
  {
   "cell_type": "code",
   "execution_count": 185,
   "id": "ab269f41-5725-4f34-98d9-5e2d16db1be2",
   "metadata": {},
   "outputs": [
    {
     "name": "stdout",
     "output_type": "stream",
     "text": [
      "a  [[ 0  1  2]\n",
      " [ 3  4  5]\n",
      " [ 6  7  8]\n",
      " [ 9 10 11]\n",
      " [12 13 14]\n",
      " [15 16 17]]\n",
      "b  [[18 19 20]\n",
      " [21 22 23]\n",
      " [24 25 26]\n",
      " [27 28 29]\n",
      " [30 31 32]\n",
      " [33 34 35]]\n",
      "a*b [[  0  19  40]\n",
      " [ 63  88 115]\n",
      " [144 175 208]\n",
      " [243 280 319]\n",
      " [360 403 448]\n",
      " [495 544 595]]\n",
      "np.multiply  [[  0  19  40]\n",
      " [ 63  88 115]\n",
      " [144 175 208]\n",
      " [243 280 319]\n",
      " [360 403 448]\n",
      " [495 544 595]]\n"
     ]
    }
   ],
   "source": [
    "print(\"a \",a)\n",
    "print(\"b \",b)\n",
    "print(\"a*b\",a*b)  # a* b each element of a is geeting multitpled with each element of b at same position \n",
    "print(\"np.multiply \",np.multiply(a,b))\n",
    "\n",
    "# for example a[0][0] which is 0 will be multiplied with b[0][0] which is 18 this is not MATRIX MULTIPLICATION"
   ]
  },
  {
   "cell_type": "code",
   "execution_count": 187,
   "id": "885d2dd0-927d-4eaf-b9a5-aa793824efb5",
   "metadata": {},
   "outputs": [
    {
     "name": "stdout",
     "output_type": "stream",
     "text": [
      "a.shape (6, 3)\n",
      "b.shape (6, 3)\n"
     ]
    },
    {
     "ename": "ValueError",
     "evalue": "matmul: Input operand 1 has a mismatch in its core dimension 0, with gufunc signature (n?,k),(k,m?)->(n?,m?) (size 6 is different from 3)",
     "output_type": "error",
     "traceback": [
      "\u001b[1;31m---------------------------------------------------------------------------\u001b[0m",
      "\u001b[1;31mValueError\u001b[0m                                Traceback (most recent call last)",
      "Cell \u001b[1;32mIn[187], line 3\u001b[0m\n\u001b[0;32m      1\u001b[0m \u001b[38;5;28mprint\u001b[39m(\u001b[38;5;124m\"\u001b[39m\u001b[38;5;124ma.shape\u001b[39m\u001b[38;5;124m\"\u001b[39m, a\u001b[38;5;241m.\u001b[39mshape)\n\u001b[0;32m      2\u001b[0m \u001b[38;5;28mprint\u001b[39m(\u001b[38;5;124m\"\u001b[39m\u001b[38;5;124mb.shape\u001b[39m\u001b[38;5;124m\"\u001b[39m,b\u001b[38;5;241m.\u001b[39mshape)\n\u001b[1;32m----> 3\u001b[0m \u001b[38;5;28mprint\u001b[39m(\u001b[38;5;124m\"\u001b[39m\u001b[38;5;124ma@b \u001b[39m\u001b[38;5;124m\"\u001b[39m,\u001b[43ma\u001b[49m\u001b[38;5;129;43m@b\u001b[39;49m) \n\u001b[0;32m      4\u001b[0m \u001b[38;5;28mprint\u001b[39m(\u001b[38;5;124m\"\u001b[39m\u001b[38;5;124ma.dot(b) \u001b[39m\u001b[38;5;124m\"\u001b[39m,a\u001b[38;5;241m.\u001b[39mdot(b))\n\u001b[0;32m      6\u001b[0m \u001b[38;5;66;03m#This will give the matrix multiplication of two arrays a and b but Its important that you check the shape of two arrays because for matrix multiplication\u001b[39;00m\n\u001b[0;32m      7\u001b[0m \u001b[38;5;66;03m# the column of first array should be similar to row of second array and the size of result array will be ( row of first array X column of second array ) \u001b[39;00m\n\u001b[0;32m      8\u001b[0m \n\u001b[0;32m      9\u001b[0m \u001b[38;5;66;03m# LIKE THE ERROR IS GIVEN BELOW WHEN MULTIPLYING TWO ARRAY OF SIZE (6,3) (6,3) LETS RESHAPE AND TRY AGAIN\u001b[39;00m\n",
      "\u001b[1;31mValueError\u001b[0m: matmul: Input operand 1 has a mismatch in its core dimension 0, with gufunc signature (n?,k),(k,m?)->(n?,m?) (size 6 is different from 3)"
     ]
    }
   ],
   "source": [
    "print(\"a.shape\", a.shape)\n",
    "print(\"b.shape\",b.shape)\n",
    "print(\"a@b \",a@b) \n",
    "print(\"a.dot(b) \",a.dot(b))\n",
    "\n",
    "#This will give the matrix multiplication of two arrays a and b but Its important that you check the shape of two arrays because for matrix multiplication\n",
    "# the column of first array should be similar to row of second array and the size of result array will be ( row of first array X column of second array ) \n",
    "\n",
    "# LIKE THE ERROR IS GIVEN BELOW WHEN MULTIPLYING TWO ARRAY OF SIZE (6,3) (6,3) LETS RESHAPE AND TRY AGAIN "
   ]
  },
  {
   "cell_type": "code",
   "execution_count": 190,
   "id": "1b58afbd-25ba-492a-9c9f-e7203e1f016f",
   "metadata": {},
   "outputs": [
    {
     "name": "stdout",
     "output_type": "stream",
     "text": [
      "a.shape (6, 3)\n",
      "b.shape (3, 6)\n",
      "a@b  [[  84   87   90   93   96   99]\n",
      " [ 300  312  324  336  348  360]\n",
      " [ 516  537  558  579  600  621]\n",
      " [ 732  762  792  822  852  882]\n",
      " [ 948  987 1026 1065 1104 1143]\n",
      " [1164 1212 1260 1308 1356 1404]]\n",
      "a.dot(b)  [[  84   87   90   93   96   99]\n",
      " [ 300  312  324  336  348  360]\n",
      " [ 516  537  558  579  600  621]\n",
      " [ 732  762  792  822  852  882]\n",
      " [ 948  987 1026 1065 1104 1143]\n",
      " [1164 1212 1260 1308 1356 1404]]\n"
     ]
    }
   ],
   "source": [
    "b = b.reshape(3,6)\n",
    "print(\"a.shape\", a.shape)\n",
    "print(\"b.shape\",b.shape)\n",
    "print(\"a@b \",a@b) \n",
    "print(\"a.dot(b) \",a.dot(b))   # AS WE CAN SEE THE RESULT ARRAY IS OF SIZE 6 X 6 "
   ]
  },
  {
   "cell_type": "code",
   "execution_count": 195,
   "id": "050b9ae8-fe4c-4292-8a9a-95d69e753109",
   "metadata": {},
   "outputs": [
    {
     "data": {
      "text/plain": [
       "35"
      ]
     },
     "execution_count": 195,
     "metadata": {},
     "output_type": "execute_result"
    }
   ],
   "source": [
    "b.max() # max value of array"
   ]
  },
  {
   "cell_type": "code",
   "execution_count": 196,
   "id": "a6ae2754-a4b7-4051-b272-baea61d8479d",
   "metadata": {},
   "outputs": [
    {
     "data": {
      "text/plain": [
       "18"
      ]
     },
     "execution_count": 196,
     "metadata": {},
     "output_type": "execute_result"
    }
   ],
   "source": [
    "b.min() #min vvalue of array"
   ]
  },
  {
   "cell_type": "code",
   "execution_count": 197,
   "id": "a6347597-3294-4ae3-85cb-18861682d744",
   "metadata": {},
   "outputs": [
    {
     "data": {
      "text/plain": [
       "17"
      ]
     },
     "execution_count": 197,
     "metadata": {},
     "output_type": "execute_result"
    }
   ],
   "source": [
    "b.argmax() #max index of array"
   ]
  },
  {
   "cell_type": "code",
   "execution_count": 198,
   "id": "dda8acb5-ebde-45cc-8908-82150626a5e0",
   "metadata": {},
   "outputs": [
    {
     "data": {
      "text/plain": [
       "0"
      ]
     },
     "execution_count": 198,
     "metadata": {},
     "output_type": "execute_result"
    }
   ],
   "source": [
    "b.argmin() #min index of array "
   ]
  },
  {
   "cell_type": "code",
   "execution_count": 203,
   "id": "b49f804d-45c5-445a-82e4-8c4a64983077",
   "metadata": {},
   "outputs": [
    {
     "data": {
      "text/plain": [
       "153"
      ]
     },
     "execution_count": 203,
     "metadata": {},
     "output_type": "execute_result"
    }
   ],
   "source": [
    "np.sum(a) # gives value of sum of all elements in an array"
   ]
  },
  {
   "cell_type": "code",
   "execution_count": 210,
   "id": "aa04fbfd-6e17-4673-9e0a-cf0cbaafebb6",
   "metadata": {},
   "outputs": [
    {
     "name": "stdout",
     "output_type": "stream",
     "text": [
      "(6, 3)\n",
      "[[ 0  1  2]\n",
      " [ 3  4  5]\n",
      " [ 6  7  8]\n",
      " [ 9 10 11]\n",
      " [12 13 14]\n",
      " [15 16 17]]\n"
     ]
    }
   ],
   "source": [
    "print(a.shape)\n",
    "print(a)"
   ]
  },
  {
   "cell_type": "code",
   "execution_count": 204,
   "id": "9f8d298d-3b08-46bb-8727-e89c814745e1",
   "metadata": {},
   "outputs": [
    {
     "data": {
      "text/plain": [
       "array([ 3, 12, 21, 30, 39, 48])"
      ]
     },
     "execution_count": 204,
     "metadata": {},
     "output_type": "execute_result"
    }
   ],
   "source": [
    "np.sum(a,axis = 1) # axis  = 1 means sum of rows"
   ]
  },
  {
   "cell_type": "code",
   "execution_count": 206,
   "id": "1586e1aa-717a-421f-bcd8-bdf7f1fee38a",
   "metadata": {},
   "outputs": [
    {
     "data": {
      "text/plain": [
       "array([45, 51, 57])"
      ]
     },
     "execution_count": 206,
     "metadata": {},
     "output_type": "execute_result"
    }
   ],
   "source": [
    "np.sum(a,axis = 0) # axis = 0  means sum of each column"
   ]
  },
  {
   "cell_type": "code",
   "execution_count": 220,
   "id": "2d94194c-b3b6-4f91-8a07-000f2d511c7a",
   "metadata": {},
   "outputs": [
    {
     "data": {
      "text/plain": [
       "8.5"
      ]
     },
     "execution_count": 220,
     "metadata": {},
     "output_type": "execute_result"
    }
   ],
   "source": [
    "np.mean(a) # give sum / total number of elements of an array  = mean of array (np.sum(array) /array.size)"
   ]
  },
  {
   "cell_type": "code",
   "execution_count": 221,
   "id": "d21f441f-44de-4b5b-a795-8e2744f3eebc",
   "metadata": {},
   "outputs": [
    {
     "data": {
      "text/plain": [
       "8.5"
      ]
     },
     "execution_count": 221,
     "metadata": {},
     "output_type": "execute_result"
    }
   ],
   "source": [
    "np.sum(a) /a.size"
   ]
  },
  {
   "cell_type": "code",
   "execution_count": 223,
   "id": "f580f6aa-82df-481b-a49b-01eaa769d1f3",
   "metadata": {},
   "outputs": [
    {
     "data": {
      "text/plain": [
       "array([[0.        , 1.        , 1.41421356],\n",
       "       [1.73205081, 2.        , 2.23606798],\n",
       "       [2.44948974, 2.64575131, 2.82842712],\n",
       "       [3.        , 3.16227766, 3.31662479],\n",
       "       [3.46410162, 3.60555128, 3.74165739],\n",
       "       [3.87298335, 4.        , 4.12310563]])"
      ]
     },
     "execution_count": 223,
     "metadata": {},
     "output_type": "execute_result"
    }
   ],
   "source": [
    "np.sqrt(a) #give sqaure root of each element in array"
   ]
  },
  {
   "cell_type": "code",
   "execution_count": 226,
   "id": "5b7dccfa-5fda-43f5-9573-570af466e259",
   "metadata": {},
   "outputs": [
    {
     "data": {
      "text/plain": [
       "5.188127472091127"
      ]
     },
     "execution_count": 226,
     "metadata": {},
     "output_type": "execute_result"
    }
   ],
   "source": [
    "np.std(a) # give standard deviation of array"
   ]
  },
  {
   "cell_type": "code",
   "execution_count": 227,
   "id": "49f557df-175c-4f6a-ac45-ad70e7bd2c46",
   "metadata": {},
   "outputs": [
    {
     "name": "stderr",
     "output_type": "stream",
     "text": [
      "C:\\Users\\Ujjawal Rajwanshi\\AppData\\Local\\Temp\\ipykernel_24328\\1363168766.py:1: RuntimeWarning: divide by zero encountered in log\n",
      "  np.log(a) # give log for each of the element present in array\n"
     ]
    },
    {
     "data": {
      "text/plain": [
       "array([[      -inf, 0.        , 0.69314718],\n",
       "       [1.09861229, 1.38629436, 1.60943791],\n",
       "       [1.79175947, 1.94591015, 2.07944154],\n",
       "       [2.19722458, 2.30258509, 2.39789527],\n",
       "       [2.48490665, 2.56494936, 2.63905733],\n",
       "       [2.7080502 , 2.77258872, 2.83321334]])"
      ]
     },
     "execution_count": 227,
     "metadata": {},
     "output_type": "execute_result"
    }
   ],
   "source": [
    "np.log(a) # give log for each of the element present in array "
   ]
  },
  {
   "cell_type": "code",
   "execution_count": null,
   "id": "b4fd958f-ee04-4737-8ee8-b6930c18e40d",
   "metadata": {},
   "outputs": [],
   "source": []
  }
 ],
 "metadata": {
  "kernelspec": {
   "display_name": "Python 3 (ipykernel)",
   "language": "python",
   "name": "python3"
  },
  "language_info": {
   "codemirror_mode": {
    "name": "ipython",
    "version": 3
   },
   "file_extension": ".py",
   "mimetype": "text/x-python",
   "name": "python",
   "nbconvert_exporter": "python",
   "pygments_lexer": "ipython3",
   "version": "3.10.9"
  }
 },
 "nbformat": 4,
 "nbformat_minor": 5
}
