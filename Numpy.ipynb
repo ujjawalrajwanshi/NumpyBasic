{
 "cells": [
  {
   "cell_type": "markdown",
   "id": "53011418-08f4-4199-909e-ff81f8fbe91d",
   "metadata": {},
   "source": [
    "# INTRODUCTION AND BASIC OPERATIONS"
   ]
  },
  {
   "cell_type": "code",
   "execution_count": 58,
   "id": "caf54298-a2d0-433a-a7f3-6df230f38350",
   "metadata": {},
   "outputs": [],
   "source": [
    "import numpy as np"
   ]
  },
  {
   "cell_type": "code",
   "execution_count": 59,
   "id": "3165ce24-26d3-4a38-9a2d-666a9b14a150",
   "metadata": {},
   "outputs": [
    {
     "name": "stdout",
     "output_type": "stream",
     "text": [
      "[1, 2, 3, 4, 5]\n"
     ]
    }
   ],
   "source": [
    "lst = [1,2,3,4,5]\n",
    "print(lst)"
   ]
  },
  {
   "cell_type": "code",
   "execution_count": 60,
   "id": "fbd6bce2-4bb8-4ace-9a1f-f68983a2e5f7",
   "metadata": {},
   "outputs": [
    {
     "name": "stdout",
     "output_type": "stream",
     "text": [
      "1D NP ARRRAY\n",
      "[1 2 3 4 5]\n"
     ]
    }
   ],
   "source": [
    "print('1D NP ARRRAY')\n",
    "a = np.array([1,2,3,4,5])\n",
    "print(a)\n"
   ]
  },
  {
   "cell_type": "code",
   "execution_count": 61,
   "id": "cbcf91f2-f205-4467-99c3-6228c88e2a4a",
   "metadata": {},
   "outputs": [
    {
     "name": "stdout",
     "output_type": "stream",
     "text": [
      "2D ARRAY\n",
      "[[ 1  2  3  4  5]\n",
      " [ 6  7  8  9 10]]\n"
     ]
    }
   ],
   "source": [
    "print('2D ARRAY')\n",
    "b = np.array([[1,2,3,4,5],[6,7,8,9,10]])\n",
    "print(b)"
   ]
  },
  {
   "cell_type": "code",
   "execution_count": 62,
   "id": "989850c9-4f67-4701-9da6-8798bd399d29",
   "metadata": {},
   "outputs": [
    {
     "name": "stdout",
     "output_type": "stream",
     "text": [
      "3D ARRAY\n",
      "[[[ 1  2  3  4  5]\n",
      "  [ 6  7  8  9 10]\n",
      "  [11 12 13 14 15]]]\n"
     ]
    }
   ],
   "source": [
    "print('3D ARRAY')\n",
    "c = np.array([[[1,2,3,4,5],[6,7,8,9,10],[11,12,13,14,15]]])\n",
    "print(c)"
   ]
  },
  {
   "cell_type": "code",
   "execution_count": 63,
   "id": "0d134f35-03cf-400b-8315-1a8f07c54a57",
   "metadata": {},
   "outputs": [
    {
     "data": {
      "text/plain": [
       "numpy.ndarray"
      ]
     },
     "execution_count": 63,
     "metadata": {},
     "output_type": "execute_result"
    }
   ],
   "source": [
    "type(a)\n"
   ]
  },
  {
   "cell_type": "code",
   "execution_count": 64,
   "id": "51554f57-a8a4-4998-8bc8-cc3a50b3435e",
   "metadata": {},
   "outputs": [
    {
     "data": {
      "text/plain": [
       "numpy.ndarray"
      ]
     },
     "execution_count": 64,
     "metadata": {},
     "output_type": "execute_result"
    }
   ],
   "source": [
    "type(b)\n"
   ]
  },
  {
   "cell_type": "code",
   "execution_count": 65,
   "id": "5a8d3958-a246-4520-93f5-7d3701db7b79",
   "metadata": {},
   "outputs": [
    {
     "data": {
      "text/plain": [
       "numpy.ndarray"
      ]
     },
     "execution_count": 65,
     "metadata": {},
     "output_type": "execute_result"
    }
   ],
   "source": [
    "type(c)"
   ]
  },
  {
   "cell_type": "code",
   "execution_count": 66,
   "id": "6ea7847f-a709-4ca8-bb5b-e1a9c3cdbcf5",
   "metadata": {},
   "outputs": [
    {
     "name": "stdout",
     "output_type": "stream",
     "text": [
      "5\n",
      "10\n",
      "15\n"
     ]
    }
   ],
   "source": [
    "print(a.size)\n",
    "print(b.size)\n",
    "print(c.size)"
   ]
  },
  {
   "cell_type": "markdown",
   "id": "68d27c25-6798-41d0-bbaf-953932aa3eeb",
   "metadata": {},
   "source": [
    "# Numpy Functions np.ones,np.zeroes,np.empty"
   ]
  },
  {
   "cell_type": "code",
   "execution_count": 67,
   "id": "9b093d4d-f6b3-4a38-a07e-0b5e8fd70e6a",
   "metadata": {},
   "outputs": [
    {
     "data": {
      "text/plain": [
       "array([1., 1., 1., 1.])"
      ]
     },
     "execution_count": 67,
     "metadata": {},
     "output_type": "execute_result"
    }
   ],
   "source": [
    "a = np.ones(4)\n",
    "a  #will give an array of size 4 will 0. as elements"
   ]
  },
  {
   "cell_type": "code",
   "execution_count": 68,
   "id": "fac1832f-424e-479a-8e0e-5bfaedb16cc4",
   "metadata": {},
   "outputs": [
    {
     "data": {
      "text/plain": [
       "array([0., 0., 0., 0.])"
      ]
     },
     "execution_count": 68,
     "metadata": {},
     "output_type": "execute_result"
    }
   ],
   "source": [
    "a = np.zeros(4)\n",
    "a #will give an array of size 4 will 0. as elements"
   ]
  },
  {
   "cell_type": "code",
   "execution_count": 69,
   "id": "2084a68b-bdb9-40be-8cbc-1ca9cf8fba6d",
   "metadata": {},
   "outputs": [
    {
     "data": {
      "text/plain": [
       "array([1, 1, 1, 1])"
      ]
     },
     "execution_count": 69,
     "metadata": {},
     "output_type": "execute_result"
    }
   ],
   "source": [
    "a = np.ones(4,dtype = int)\n",
    "a #setting dtype as int hence will get an array of size 4 with value 1 "
   ]
  },
  {
   "cell_type": "code",
   "execution_count": 70,
   "id": "4de0d69c-28f2-4c0a-b01b-9b00f65da8c1",
   "metadata": {},
   "outputs": [
    {
     "data": {
      "text/plain": [
       "array([0, 0, 0, 0])"
      ]
     },
     "execution_count": 70,
     "metadata": {},
     "output_type": "execute_result"
    }
   ],
   "source": [
    "a = np.zeros(4,dtype=int)\n",
    "a"
   ]
  },
  {
   "cell_type": "code",
   "execution_count": 71,
   "id": "a7b585f9-3a9d-4a36-afaa-5448cf7cbfb0",
   "metadata": {},
   "outputs": [
    {
     "data": {
      "text/plain": [
       "array([-651673680,        479,          0,          0])"
      ]
     },
     "execution_count": 71,
     "metadata": {},
     "output_type": "execute_result"
    }
   ],
   "source": [
    "a = np.empty(4,dtype = int)\n",
    "a # will get an array of random values of type int"
   ]
  },
  {
   "cell_type": "code",
   "execution_count": 72,
   "id": "70a5baa1-c09d-4e5e-b698-0289c47ead5d",
   "metadata": {},
   "outputs": [
    {
     "data": {
      "text/plain": [
       "array([[1., 1., 1., 1., 1., 1.],\n",
       "       [1., 1., 1., 1., 1., 1.],\n",
       "       [1., 1., 1., 1., 1., 1.],\n",
       "       [1., 1., 1., 1., 1., 1.]])"
      ]
     },
     "execution_count": 72,
     "metadata": {},
     "output_type": "execute_result"
    }
   ],
   "source": [
    "a = np.ones((4,6))\n",
    "a "
   ]
  },
  {
   "cell_type": "code",
   "execution_count": 73,
   "id": "f364120d-6060-4b66-8d40-2361a455ebed",
   "metadata": {},
   "outputs": [
    {
     "data": {
      "text/plain": [
       "array([[1, 1, 1, 1, 1, 1],\n",
       "       [1, 1, 1, 1, 1, 1],\n",
       "       [1, 1, 1, 1, 1, 1],\n",
       "       [1, 1, 1, 1, 1, 1]])"
      ]
     },
     "execution_count": 73,
     "metadata": {},
     "output_type": "execute_result"
    }
   ],
   "source": [
    "a = np.ones((4,6),dtype = int)\n",
    "a "
   ]
  },
  {
   "cell_type": "code",
   "execution_count": 74,
   "id": "5ddd7e20-2a88-4a09-95d9-512bef2dc097",
   "metadata": {},
   "outputs": [
    {
     "data": {
      "text/plain": [
       "array([['1', '1', '1', '1', '1', '1'],\n",
       "       ['1', '1', '1', '1', '1', '1'],\n",
       "       ['1', '1', '1', '1', '1', '1'],\n",
       "       ['1', '1', '1', '1', '1', '1']], dtype='<U1')"
      ]
     },
     "execution_count": 74,
     "metadata": {},
     "output_type": "execute_result"
    }
   ],
   "source": [
    "a = np.ones((4,6),dtype = str)\n",
    "a # well get a 2d array of 4 rows and 6 colums with 1 as string "
   ]
  },
  {
   "cell_type": "code",
   "execution_count": 75,
   "id": "a3dcdd5d-0792-447a-b46a-00094df314e6",
   "metadata": {},
   "outputs": [
    {
     "data": {
      "text/plain": [
       "array([['', '', '', '', '', ''],\n",
       "       ['', '', '', '', '', ''],\n",
       "       ['', '', '', '', '', ''],\n",
       "       ['', '', '', '', '', '']], dtype='<U1')"
      ]
     },
     "execution_count": 75,
     "metadata": {},
     "output_type": "execute_result"
    }
   ],
   "source": [
    "a = np.zeros((4,6),dtype = str)\n",
    "a # well get a 2d array of 4 rows and 6 colums with empty  string "
   ]
  },
  {
   "cell_type": "code",
   "execution_count": 76,
   "id": "823c7139-cac4-4103-828d-542bb15fb6b2",
   "metadata": {},
   "outputs": [
    {
     "data": {
      "text/plain": [
       "array([[ True,  True,  True,  True,  True],\n",
       "       [ True,  True,  True,  True,  True],\n",
       "       [ True,  True,  True,  True,  True],\n",
       "       [ True,  True,  True,  True,  True]])"
      ]
     },
     "execution_count": 76,
     "metadata": {},
     "output_type": "execute_result"
    }
   ],
   "source": [
    "a = np.ones((4,5),dtype = bool)\n",
    "a # for data type bool we get true for np.ones "
   ]
  },
  {
   "cell_type": "code",
   "execution_count": 77,
   "id": "451aa65a-5202-49da-8803-5925ca8cdaed",
   "metadata": {},
   "outputs": [
    {
     "data": {
      "text/plain": [
       "array([[False, False, False, False, False],\n",
       "       [False, False, False, False, False],\n",
       "       [False, False, False, False, False],\n",
       "       [False, False, False, False, False]])"
      ]
     },
     "execution_count": 77,
     "metadata": {},
     "output_type": "execute_result"
    }
   ],
   "source": [
    "a = np.zeros((4,5),dtype = bool)\n",
    "a # for data type bool we get true for np.zeros "
   ]
  },
  {
   "cell_type": "markdown",
   "id": "84a064f9-3972-4912-94fb-e0d302441e27",
   "metadata": {},
   "source": [
    "# Numpy Functions np.arrange,np.flatten,np.ravel"
   ]
  },
  {
   "cell_type": "code",
   "execution_count": null,
   "id": "6dc8e7ad-1773-41d4-aead-b65f6f0458e7",
   "metadata": {},
   "outputs": [],
   "source": []
  }
 ],
 "metadata": {
  "kernelspec": {
   "display_name": "Python 3 (ipykernel)",
   "language": "python",
   "name": "python3"
  },
  "language_info": {
   "codemirror_mode": {
    "name": "ipython",
    "version": 3
   },
   "file_extension": ".py",
   "mimetype": "text/x-python",
   "name": "python",
   "nbconvert_exporter": "python",
   "pygments_lexer": "ipython3",
   "version": "3.10.9"
  }
 },
 "nbformat": 4,
 "nbformat_minor": 5
}
